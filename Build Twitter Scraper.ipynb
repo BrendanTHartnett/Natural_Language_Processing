{
 "cells": [
  {
   "cell_type": "code",
   "execution_count": 140,
   "id": "593c9d5c",
   "metadata": {},
   "outputs": [],
   "source": [
    "import os\n",
    "import pandas as pd\n",
    "from datetime import date"
   ]
  },
  {
   "cell_type": "code",
   "execution_count": 97,
   "id": "b1a22503",
   "metadata": {},
   "outputs": [
    {
     "name": "stdout",
     "output_type": "stream",
     "text": [
      "2022-06-18\n"
     ]
    }
   ],
   "source": [
    "today = date.today ()\n",
    "end_date = today\n",
    "print(end_date)"
   ]
  },
  {
   "cell_type": "code",
   "execution_count": 171,
   "id": "9c8016b1",
   "metadata": {},
   "outputs": [],
   "source": [
    "search_term = 'Tufts'\n",
    "from_date = '2022-05-01'\n",
    "max_results = 100"
   ]
  },
  {
   "cell_type": "code",
   "execution_count": 60,
   "id": "025a535a",
   "metadata": {
    "scrolled": true
   },
   "outputs": [
    {
     "name": "stdout",
     "output_type": "stream",
     "text": [
      "Number of tweets: 1334\n"
     ]
    },
    {
     "name": "stderr",
     "output_type": "stream",
     "text": [
      "Traceback (most recent call last):\n",
      "  File \"/Users/brendanhartnett/opt/anaconda3/bin/snscrape\", line 8, in <module>\n",
      "    sys.exit(main())\n",
      "  File \"/Users/brendanhartnett/opt/anaconda3/lib/python3.9/site-packages/snscrape/_cli.py\", line 308, in main\n",
      "    for i, item in enumerate(scraper.get_items(), start = 1):\n",
      "  File \"/Users/brendanhartnett/opt/anaconda3/lib/python3.9/site-packages/snscrape/modules/twitter.py\", line 680, in get_items\n",
      "    for obj in self._iter_api_data('https://api.twitter.com/2/search/adaptive.json', params, paginationParams, cursor = self._cursor):\n",
      "  File \"/Users/brendanhartnett/opt/anaconda3/lib/python3.9/site-packages/snscrape/modules/twitter.py\", line 369, in _iter_api_data\n",
      "    obj = self._get_api_data(endpoint, reqParams)\n",
      "  File \"/Users/brendanhartnett/opt/anaconda3/lib/python3.9/site-packages/snscrape/modules/twitter.py\", line 339, in _get_api_data\n",
      "    r = self._get(endpoint, params = params, headers = self._apiHeaders, responseOkCallback = self._check_api_response)\n",
      "  File \"/Users/brendanhartnett/opt/anaconda3/lib/python3.9/site-packages/snscrape/base.py\", line 216, in _get\n",
      "    return self._request('GET', *args, **kwargs)\n",
      "  File \"/Users/brendanhartnett/opt/anaconda3/lib/python3.9/site-packages/snscrape/base.py\", line 173, in _request\n",
      "    r = self._session.send(req, allow_redirects = allowRedirects, timeout = timeout)\n",
      "  File \"/Users/brendanhartnett/opt/anaconda3/lib/python3.9/site-packages/requests/sessions.py\", line 701, in send\n",
      "    r = adapter.send(request, **kwargs)\n",
      "  File \"/Users/brendanhartnett/opt/anaconda3/lib/python3.9/site-packages/requests/adapters.py\", line 489, in send\n",
      "    resp = conn.urlopen(\n",
      "  File \"/Users/brendanhartnett/opt/anaconda3/lib/python3.9/site-packages/urllib3/connectionpool.py\", line 703, in urlopen\n",
      "    httplib_response = self._make_request(\n",
      "  File \"/Users/brendanhartnett/opt/anaconda3/lib/python3.9/site-packages/urllib3/connectionpool.py\", line 449, in _make_request\n",
      "    six.raise_from(e, None)\n",
      "  File \"<string>\", line 3, in raise_from\n",
      "  File \"/Users/brendanhartnett/opt/anaconda3/lib/python3.9/site-packages/urllib3/connectionpool.py\", line 444, in _make_request\n",
      "    httplib_response = conn.getresponse()\n",
      "  File \"/Users/brendanhartnett/opt/anaconda3/lib/python3.9/http/client.py\", line 1371, in getresponse\n",
      "    response.begin()\n",
      "  File \"/Users/brendanhartnett/opt/anaconda3/lib/python3.9/http/client.py\", line 319, in begin\n",
      "    version, status, reason = self._read_status()\n",
      "  File \"/Users/brendanhartnett/opt/anaconda3/lib/python3.9/http/client.py\", line 280, in _read_status\n",
      "    line = str(self.fp.readline(_MAXLINE + 1), \"iso-8859-1\")\n",
      "  File \"/Users/brendanhartnett/opt/anaconda3/lib/python3.9/socket.py\", line 704, in readinto\n",
      "    return self._sock.recv_into(b)\n",
      "  File \"/Users/brendanhartnett/opt/anaconda3/lib/python3.9/ssl.py\", line 1241, in recv_into\n",
      "    return self.read(nbytes, buffer)\n",
      "  File \"/Users/brendanhartnett/opt/anaconda3/lib/python3.9/ssl.py\", line 1099, in read\n",
      "    return self._sslobj.read(len, buffer)\n",
      "KeyboardInterrupt\n"
     ]
    }
   ],
   "source": [
    "os.system(f\"snscrape --since {from_date} twitter-search '{search_term} until:{end_date}' > result-tweets.txt\")\n",
    "\n",
    "\n",
    "if os.stat(\"result-tweets.txt\").st_size == 0:\n",
    "    counter = 0\n",
    "else:\n",
    "    df = pd.read_csv('result-tweets.txt', names=['link'])\n",
    "    counter = df.size\n",
    "    \n",
    "print('Number of tweets: '+ str(counter))"
   ]
  },
  {
   "cell_type": "code",
   "execution_count": 186,
   "id": "9ee6e94d",
   "metadata": {},
   "outputs": [
    {
     "name": "stdout",
     "output_type": "stream",
     "text": [
      "(\"'“This looks like chemistry to me\", \" not gonna lie” https://t.co/mYWzcmGpAD https://t.co/G9W8lgWg6W'\")\n",
      "(\"'Just made a K-Nearest Neighbors joke to @kaitlynmoconnor. She missed it. Sad.'\", nan)\n",
      "(\"'Booooooooooo'\", nan)\n",
      "(\"'💙💛@LeafletJS! Loving your program even more! https://t.co/e7B5ewWKMz'\", nan)\n",
      "(\"'Ok so I do kinda bad but I did just check and I can get a simple majority in the European Parliament nbd https://t.co/9t70iaKFsT https://t.co/faJpMZnXO6'\", nan)\n",
      "(\"'This is 1) biased by the use of breaks—higher income (ex. &gt;200k) are much more for Biden and 2) missing what happens when you control for edu\", \" where the college-edu’ed w/ higher incomes voted overwhelmingly for Biden.\\\\nSee my analysis of education &amp; income: https://t.co/SsfKIxdz1z https://t.co/eDKioC5ooa'\")\n",
      "(\"'Imagine trying to explain to a founding father what a shapefile is'\", nan)\n",
      "(\"'@decustecu This ironically reads like The German Ideology https://t.co/RNJkeRxWOQ'\", nan)\n",
      "(\"'@ScottBlatte Apologies'\", nan)\n",
      "(\"'I just started learning Julia and thus far it seems easier (and dare I say better?) than Python  I must admit my Py skills are not good\", \" but still can’t believe this isn’t a more popular language.'\")\n",
      "(\"The biggest lesson I've learned in data science is that the second time you do the project from scratch, it's always 10x better than the first time\", nan)\n",
      "(\"'Start a family some day? Babe I’m overwhelmed just being a second-cousin.'\", nan)\n",
      "(\"'Omg happy pride king https://t.co/z7FJ8sBEO8'\", nan)\n",
      "(\"'Nia and Dr. Holly Hatcher are the superior dance mom family'\", nan)\n",
      "(\"'Also how many languages of code do I need to know before it’s embarrassing I list Stata as one? https://t.co/vCPgxfpfB8'\", nan)\n",
      "(\"'How long can I leave a working paper on my CV without actually working on it?'\", nan)\n",
      "(\"'YouTube Music’s ML code just recommended the Euphoria season 2\", \" episode 4 soundtrack. Scary stuff. https://t.co/BFR449Ukmu'\")\n",
      "(\"'@jula_harrington @ewiney8 https://t.co/xqbVKoprMH'\", nan)\n",
      "(\"'And now it’s down to us to raise the 6 month old rotting Christmas tree we (I) threw off the balcony into the backyard our first night back. Wel make you proud\", \" soldiers. https://t.co/mL9Kzob0ER'\")\n",
      "(\"'@Lil_Jonny_Adams Central supremacy.'\", nan)\n",
      "(\"'@rrockettttttttt Marry me\", \" Ryan Rocket'\")\n",
      "(\"'@EthanBWinter Their Slack Bot definitely doesn’t need to ask if they’ve “stepped away from their desk for at least five minutes?”'\", nan)\n",
      "(\"'Might make tomorrow the day all my professors begin to hate me (asking them for an insane amount of rec letters)'\", nan)\n",
      "(\"'@emmavaninwegen A supply curve that shows demand shifts?'\", nan)\n",
      "(\"'@charleschurros @wutrain Ask her to keep the train open until 2 😭'\", nan)\n",
      "(\"'@debbiejsr You crushed it!!'\", nan)\n",
      "(\"'@rrockettttttttt Almost but more socially acceptable bc it’s grad'\", nan)\n",
      "(\"'The Tufts post-grad survey for where you’re moving to is literally just a multiple choice question:\\\\nO   Boston\\\\nO   NY \\\\nO   DC \\\\nO   Western Europe'\", nan)\n",
      "(\"'@therriaultphd @mikemajlak I knew $15 was too much for this crap!'\", nan)\n",
      "(\"'@rrockettttttttt @mikemajlak Shoulda gotten this sick art'\", nan)\n",
      "(\"'If you’re in line to vote\", \" STAY IN LINE! You are legally allowed to vote!! https://t.co/QWen0tziQw'\")\n",
      "(\"'@homogeniuss It’s a complex question\", \" you see…'\")\n",
      "(\"'@jenniferbest0 Congratulations!!'\", nan)\n",
      "(\"'Jersey Shore political takes are unmatched https://t.co/vW5rQ3J4DI https://t.co/yRNQNCjY4Y'\", nan)\n",
      "(\"'@eitanhersh This is exactly what the internet needed'\", nan)\n",
      "(\"'At this point\", ' it is the duty of all committed to liberal democracy to set aside individual policy positions and ambitions and work to re-consolidate our democracy. Otherwise')\n",
      "(\"'This ruling imply that rights are a privilege\", ' which the conservative SCOTUS is willing to take away. Similarly')\n",
      "(\"'The parallels between the 🇺🇸 and 🇵🇱 and 🇭🇺 cannot be overstated. In the past decade we have witnessed the Republican Party assault institutions integral to our democracy\", ' in order to gain a partisan advantage. For decades now')\n",
      "(\"'@zacharylhertz Bestie I can’t even move files any more. Computer = fried.'\", nan)\n",
      "(\"'@geowiz34 Thanks so much!'\", nan)\n",
      "(\"'@mdsumner Amazing\", \" thank you!'\")\n",
      "(\"'Data friends\", \" please help me out: what’s the easiest way to upload a large file to a GitHub repository? I have a 46MB .shp I want to share and get the the command line to work. \\\\n\\\\n#DataScience #data #AcademicChatter #AcademicTwitter #R #Rtweet #gischat #GIS #Python #RStats'\")\n"
     ]
    }
   ],
   "source": [
    "user_name = \"BrendanHartnett\"\n",
    "user_tweets = \"snscrape --format '{content!r}'\"+ f\" --max-results {max_results} --since {from_date} twitter-user '{user_name}' > user-tweets.txt\"\n",
    "\n",
    "os.system(user_tweets)\n",
    "if os.stat(\"user-tweets.txt\").st_size == 0:\n",
    "  print('No Tweets found')\n",
    "else:\n",
    "  df = pd.read_csv('user-tweets.txt', names=['content'])\n",
    "  for row in df['content'].iteritems():\n",
    "    print(row)"
   ]
  }
 ],
 "metadata": {
  "kernelspec": {
   "display_name": "Python 3 (ipykernel)",
   "language": "python",
   "name": "python3"
  },
  "language_info": {
   "codemirror_mode": {
    "name": "ipython",
    "version": 3
   },
   "file_extension": ".py",
   "mimetype": "text/x-python",
   "name": "python",
   "nbconvert_exporter": "python",
   "pygments_lexer": "ipython3",
   "version": "3.9.7"
  }
 },
 "nbformat": 4,
 "nbformat_minor": 5
}
